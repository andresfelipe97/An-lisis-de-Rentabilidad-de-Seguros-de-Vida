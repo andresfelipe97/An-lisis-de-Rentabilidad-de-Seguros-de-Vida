{
 "cells": [
  {
   "cell_type": "markdown",
   "id": "9af3b72b",
   "metadata": {},
   "source": [
    "Carga y revisión general del dataset"
   ]
  },
  {
   "cell_type": "code",
   "execution_count": 32,
   "id": "cddff7b1",
   "metadata": {},
   "outputs": [],
   "source": [
    "import pandas as pd "
   ]
  },
  {
   "cell_type": "code",
   "execution_count": 33,
   "id": "50bcb538",
   "metadata": {},
   "outputs": [
    {
     "name": "stdout",
     "output_type": "stream",
     "text": [
      "primeras filas:\n",
      "  ID_Poliza Fecha_Contratacion      Producto  Canal_Venta  Prima_Anual  \\\n",
      "0  POL00001         2023-01-20     Vida Plus       Broker      1054.63   \n",
      "1  POL00002         2024-07-21   Vida Básico  Call Center       995.67   \n",
      "2  POL00003         2024-11-04     Vida Plus       Broker       621.35   \n",
      "3  POL00004         2024-10-20  Vida Premium       Agente      1130.23   \n",
      "4  POL00005         2023-06-08  Vida Premium      Digital       852.15   \n",
      "\n",
      "   Monto_Asegurado  Cliente_Edad Cliente_Sexo  Cliente_Ingreso_Mensual  \\\n",
      "0        156085.24            56     Femenino                  2839.72   \n",
      "1        165281.22            25    Masculino                  2165.74   \n",
      "2        120541.90            36     Femenino                  3386.45   \n",
      "3        163883.35            70     Femenino                  5395.06   \n",
      "4         24712.35            39     Femenino                  3595.80   \n",
      "\n",
      "  Siniestro_Reportado  Monto_Siniestro Estado_Poliza        Región  \n",
      "0                  No              0.0        Activa     Antioquia  \n",
      "1                  No              0.0     Cancelada     Atlántico  \n",
      "2                  No              0.0        Activa  Cundinamarca  \n",
      "3                  No              0.0        Activa     Atlántico  \n",
      "4                  No              0.0        Activa     Atlántico  \n"
     ]
    }
   ],
   "source": [
    "df = pd.read_csv(\"seguros_vida.csv\")\n",
    "\n",
    "print('primeras filas:')\n",
    "print(df.head())"
   ]
  },
  {
   "cell_type": "code",
   "execution_count": 34,
   "id": "f448763a",
   "metadata": {},
   "outputs": [
    {
     "name": "stdout",
     "output_type": "stream",
     "text": [
      "\\informacion general:\n",
      "<class 'pandas.core.frame.DataFrame'>\n",
      "RangeIndex: 5000 entries, 0 to 4999\n",
      "Data columns (total 13 columns):\n",
      " #   Column                   Non-Null Count  Dtype  \n",
      "---  ------                   --------------  -----  \n",
      " 0   ID_Poliza                5000 non-null   object \n",
      " 1   Fecha_Contratacion       5000 non-null   object \n",
      " 2   Producto                 5000 non-null   object \n",
      " 3   Canal_Venta              5000 non-null   object \n",
      " 4   Prima_Anual              5000 non-null   float64\n",
      " 5   Monto_Asegurado          5000 non-null   float64\n",
      " 6   Cliente_Edad             5000 non-null   int64  \n",
      " 7   Cliente_Sexo             5000 non-null   object \n",
      " 8   Cliente_Ingreso_Mensual  5000 non-null   float64\n",
      " 9   Siniestro_Reportado      5000 non-null   object \n",
      " 10  Monto_Siniestro          5000 non-null   float64\n",
      " 11  Estado_Poliza            5000 non-null   object \n",
      " 12  Región                   5000 non-null   object \n",
      "dtypes: float64(4), int64(1), object(8)\n",
      "memory usage: 507.9+ KB\n",
      "None\n"
     ]
    },
    {
     "name": "stderr",
     "output_type": "stream",
     "text": [
      "<>:1: SyntaxWarning: invalid escape sequence '\\i'\n",
      "<>:1: SyntaxWarning: invalid escape sequence '\\i'\n",
      "C:\\Users\\andre\\AppData\\Local\\Temp\\ipykernel_12568\\640142871.py:1: SyntaxWarning: invalid escape sequence '\\i'\n",
      "  print(\"\\informacion general:\")\n"
     ]
    }
   ],
   "source": [
    "print(\"\\informacion general:\")\n",
    "print(df.info())"
   ]
  },
  {
   "cell_type": "code",
   "execution_count": 35,
   "id": "2fb3694a",
   "metadata": {},
   "outputs": [
    {
     "name": "stdout",
     "output_type": "stream",
     "text": [
      "\u000balores nulos por columna:\n",
      "<bound method DataFrame.sum of       ID_Poliza  Fecha_Contratacion  Producto  Canal_Venta  Prima_Anual  \\\n",
      "0         False               False     False        False        False   \n",
      "1         False               False     False        False        False   \n",
      "2         False               False     False        False        False   \n",
      "3         False               False     False        False        False   \n",
      "4         False               False     False        False        False   \n",
      "...         ...                 ...       ...          ...          ...   \n",
      "4995      False               False     False        False        False   \n",
      "4996      False               False     False        False        False   \n",
      "4997      False               False     False        False        False   \n",
      "4998      False               False     False        False        False   \n",
      "4999      False               False     False        False        False   \n",
      "\n",
      "      Monto_Asegurado  Cliente_Edad  Cliente_Sexo  Cliente_Ingreso_Mensual  \\\n",
      "0               False         False         False                    False   \n",
      "1               False         False         False                    False   \n",
      "2               False         False         False                    False   \n",
      "3               False         False         False                    False   \n",
      "4               False         False         False                    False   \n",
      "...               ...           ...           ...                      ...   \n",
      "4995            False         False         False                    False   \n",
      "4996            False         False         False                    False   \n",
      "4997            False         False         False                    False   \n",
      "4998            False         False         False                    False   \n",
      "4999            False         False         False                    False   \n",
      "\n",
      "      Siniestro_Reportado  Monto_Siniestro  Estado_Poliza  Región  \n",
      "0                   False            False          False   False  \n",
      "1                   False            False          False   False  \n",
      "2                   False            False          False   False  \n",
      "3                   False            False          False   False  \n",
      "4                   False            False          False   False  \n",
      "...                   ...              ...            ...     ...  \n",
      "4995                False            False          False   False  \n",
      "4996                False            False          False   False  \n",
      "4997                False            False          False   False  \n",
      "4998                False            False          False   False  \n",
      "4999                False            False          False   False  \n",
      "\n",
      "[5000 rows x 13 columns]>\n"
     ]
    }
   ],
   "source": [
    "print(\"\\valores nulos por columna:\")\n",
    "print(df.isnull().sum)"
   ]
  },
  {
   "cell_type": "code",
   "execution_count": 36,
   "id": "2d96e239",
   "metadata": {},
   "outputs": [
    {
     "name": "stdout",
     "output_type": "stream",
     "text": [
      "\n",
      "duplicados:\n",
      "0\n"
     ]
    }
   ],
   "source": [
    "print(\"\\nduplicados:\")\n",
    "print(df.duplicated().sum())"
   ]
  },
  {
   "cell_type": "markdown",
   "id": "888e4599",
   "metadata": {},
   "source": [
    "PASO 2: Conversión de tipos y tratamiento de fechas"
   ]
  },
  {
   "cell_type": "code",
   "execution_count": 37,
   "id": "6b3b56dc",
   "metadata": {},
   "outputs": [],
   "source": [
    "import datetime as dt"
   ]
  },
  {
   "cell_type": "code",
   "execution_count": 38,
   "id": "f9b0c2cf",
   "metadata": {},
   "outputs": [
    {
     "name": "stdout",
     "output_type": "stream",
     "text": [
      "0\n"
     ]
    }
   ],
   "source": [
    "# Convertir columna a datetime\n",
    "df['Fecha_Contratacion'] = pd.to_datetime(df['Fecha_Contratacion'], errors='coerce')\n",
    "\n",
    "# Verificar si hubo errores\n",
    "print(df['Fecha_Contratacion'].isnull().sum())"
   ]
  },
  {
   "cell_type": "code",
   "execution_count": 39,
   "id": "1851c091",
   "metadata": {},
   "outputs": [],
   "source": [
    "# Extraer año y mes\n",
    "\n",
    "df['Año_contratacion'] = df['Fecha_Contratacion'].dt.year\n",
    "df['Mes_contratcion']= df['Fecha_Contratacion'].dt.month\n",
    "\n",
    "# Calcular antigüedad en años\n",
    "\n",
    "fecha_actual=pd.to_datetime(\"today\")\n",
    "df['Antiguedad_poliza']= (fecha_actual- df['Fecha_Contratacion']).dt.days//365"
   ]
  },
  {
   "cell_type": "code",
   "execution_count": 40,
   "id": "d79e5346",
   "metadata": {},
   "outputs": [
    {
     "name": "stdout",
     "output_type": "stream",
     "text": [
      "<class 'pandas.core.frame.DataFrame'>\n",
      "RangeIndex: 5000 entries, 0 to 4999\n",
      "Data columns (total 16 columns):\n",
      " #   Column                   Non-Null Count  Dtype         \n",
      "---  ------                   --------------  -----         \n",
      " 0   ID_Poliza                5000 non-null   object        \n",
      " 1   Fecha_Contratacion       5000 non-null   datetime64[ns]\n",
      " 2   Producto                 5000 non-null   object        \n",
      " 3   Canal_Venta              5000 non-null   object        \n",
      " 4   Prima_Anual              5000 non-null   float64       \n",
      " 5   Monto_Asegurado          5000 non-null   float64       \n",
      " 6   Cliente_Edad             5000 non-null   int64         \n",
      " 7   Cliente_Sexo             5000 non-null   object        \n",
      " 8   Cliente_Ingreso_Mensual  5000 non-null   float64       \n",
      " 9   Siniestro_Reportado      5000 non-null   object        \n",
      " 10  Monto_Siniestro          5000 non-null   float64       \n",
      " 11  Estado_Poliza            5000 non-null   object        \n",
      " 12  Región                   5000 non-null   object        \n",
      " 13  Año_contratacion         5000 non-null   int32         \n",
      " 14  Mes_contratcion          5000 non-null   int32         \n",
      " 15  Antiguedad_poliza        5000 non-null   int64         \n",
      "dtypes: datetime64[ns](1), float64(4), int32(2), int64(2), object(7)\n",
      "memory usage: 586.1+ KB\n",
      "None\n"
     ]
    }
   ],
   "source": [
    "print(df.info())"
   ]
  },
  {
   "cell_type": "markdown",
   "id": "da474269",
   "metadata": {},
   "source": [
    "PASO 3: Limpieza de variables numéricas y categóricas."
   ]
  },
  {
   "cell_type": "code",
   "execution_count": 41,
   "id": "85c5d93c",
   "metadata": {},
   "outputs": [
    {
     "name": "stdout",
     "output_type": "stream",
     "text": [
      "               Fecha_Contratacion  Prima_Anual  Monto_Asegurado  Cliente_Edad  \\\n",
      "count                        5000  5000.000000      5000.000000   5000.000000   \n",
      "mean   2023-12-06 15:59:19.680000   903.761364     99086.040452     45.846000   \n",
      "min           2022-06-12 00:00:00   200.000000      4400.000000     18.000000   \n",
      "25%           2023-03-07 18:00:00   693.795000     50044.830000     32.000000   \n",
      "50%           2023-12-03 00:00:00   902.025000     90141.000000     46.000000   \n",
      "75%           2024-09-04 06:00:00  1112.800000    138702.600000     60.000000   \n",
      "max           2025-06-11 00:00:00  2055.820000    350784.870000     74.000000   \n",
      "std                           NaN   300.300994     59141.021712     16.364554   \n",
      "\n",
      "       Cliente_Ingreso_Mensual  Monto_Siniestro  Año_contratacion  \\\n",
      "count              5000.000000      5000.000000       5000.000000   \n",
      "mean               3500.639738      5488.590966       2023.427200   \n",
      "min                1000.000000         0.000000       2022.000000   \n",
      "25%                2690.852500         0.000000       2023.000000   \n",
      "50%                3477.875000         0.000000       2023.000000   \n",
      "75%                4311.105000         0.000000       2024.000000   \n",
      "max                7695.050000    202713.630000       2025.000000   \n",
      "std                1173.861693     20985.712819          0.953563   \n",
      "\n",
      "       Mes_contratcion  Antiguedad_poliza  \n",
      "count       5000.00000        5000.000000  \n",
      "mean           6.57480           1.014000  \n",
      "min            1.00000           0.000000  \n",
      "25%            4.00000           0.000000  \n",
      "50%            7.00000           1.000000  \n",
      "75%           10.00000           2.000000  \n",
      "max           12.00000           3.000000  \n",
      "std            3.47091           0.814578  \n"
     ]
    }
   ],
   "source": [
    "print(df.describe())"
   ]
  },
  {
   "cell_type": "code",
   "execution_count": 42,
   "id": "3ac513b9",
   "metadata": {},
   "outputs": [],
   "source": [
    "# Eliminar primas, edades o ingresos negativos o extremadamente altos\n",
    "\n",
    "df = df[df['Prima_Anual'] > 0]\n",
    "df = df[(df['Cliente_Edad'] > 18) & (df['Cliente_Edad'] <=100 )]\n",
    "df = df[(df['Cliente_Ingreso_Mensual'] > 0) & (df['Cliente_Ingreso_Mensual'] <50000 )]\n",
    "df = df[df['Monto_Asegurado'] > 0]\n",
    "\n",
    "# Reemplazar monto siniestro en pólizas sin siniestro\n",
    "df.loc[df['Siniestro_Reportado'] == 'No', 'Monto_Siniestro'] = 0\n",
    "\n",
    "# Asegurar que Monto_Siniestro no sea negativo\n",
    "# Escalamos los siniestros con un factor (por ejemplo, 0.2)\n",
    "df['Monto_Siniestro'] = df['Monto_Siniestro'] * (0.2 / 1.2)"
   ]
  },
  {
   "cell_type": "code",
   "execution_count": 43,
   "id": "b78249aa",
   "metadata": {},
   "outputs": [
    {
     "name": "stdout",
     "output_type": "stream",
     "text": [
      "Tasa de siniestralidad global: 100.46%\n"
     ]
    }
   ],
   "source": [
    "total_primas = df['Prima_Anual'].sum()\n",
    "total_siniestros = df['Monto_Siniestro'].sum()\n",
    "tasa_siniestralidad = total_siniestros / total_primas\n",
    "\n",
    "print(f\"Tasa de siniestralidad global: {tasa_siniestralidad:.2%}\")\n"
   ]
  },
  {
   "cell_type": "code",
   "execution_count": 44,
   "id": "a7ce096d",
   "metadata": {},
   "outputs": [
    {
     "name": "stdout",
     "output_type": "stream",
     "text": [
      "Producto: ['Vida Plus' 'Vida Básico' 'Vida Premium' 'Protección Familiar']\n",
      "Canal_Venta: ['Broker' 'Call Center' 'Agente' 'Digital']\n",
      "Cliente_Sexo: ['Femenino' 'Masculino']\n",
      "Siniestro_Reportado: ['No' 'Sí']\n",
      "Estado_Poliza: ['Activa' 'Cancelada' 'Vencida']\n",
      "Región: ['Antioquia' 'Atlántico' 'Cundinamarca' 'Valle del Cauca' 'Bogotá'\n",
      " 'Santander']\n"
     ]
    }
   ],
   "source": [
    "# Valores únicos por columna categórica\n",
    "categoricas = ['Producto', 'Canal_Venta', 'Cliente_Sexo', 'Siniestro_Reportado', 'Estado_Poliza', 'Región']\n",
    "for col in categoricas:\n",
    "    print(f\"{col}: {df[col].unique()}\")\n"
   ]
  },
  {
   "cell_type": "markdown",
   "id": "110d59b0",
   "metadata": {},
   "source": [
    "PASO 4: Análisis exploratorio y visualización en Python"
   ]
  },
  {
   "cell_type": "markdown",
   "id": "fed352d6",
   "metadata": {},
   "source": [
    "Distribución general de productos vendidos"
   ]
  },
  {
   "cell_type": "code",
   "execution_count": 45,
   "id": "a628825f",
   "metadata": {},
   "outputs": [
    {
     "data": {
      "image/png": "[encoded data removed]",
      "text/plain": [
       "<Figure size 800x500 with 1 Axes>"
      ]
     },
     "metadata": {},
     "output_type": "display_data"
    }
   ],
   "source": [
    "import matplotlib.pyplot as plt\n",
    "import seaborn as sns\n",
    "\n",
    "plt.figure(figsize=(8,5))\n",
    "sns.countplot(x='Producto', data=df, order=df['Producto'].value_counts().index)\n",
    "plt.title('Distribución de productos vendidos')\n",
    "plt.xticks(rotation=15)\n",
    "plt.show()\n"
   ]
  },
  {
   "cell_type": "markdown",
   "id": "879006fe",
   "metadata": {},
   "source": [
    "Ingresos por canal de venta (suma de primas)"
   ]
  },
  {
   "cell_type": "code",
   "execution_count": 46,
   "id": "31a26dda",
   "metadata": {},
   "outputs": [
    {
     "data": {
      "image/png": "[encoded data removed]",
      "text/plain": [
       "<Figure size 800x500 with 1 Axes>"
      ]
     },
     "metadata": {},
     "output_type": "display_data"
    }
   ],
   "source": [
    "df.groupby('Canal_Venta')['Prima_Anual'].sum().sort_values(ascending=False).plot(\n",
    "    kind='bar', title='Ingresos por canal de venta (suma de primas)', figsize=(8,5), ylabel='Total Prima Anual')\n",
    "plt.show()\n"
   ]
  },
  {
   "cell_type": "markdown",
   "id": "abba376c",
   "metadata": {},
   "source": [
    "Tasa de siniestralidad por producto"
   ]
  },
  {
   "cell_type": "code",
   "execution_count": 47,
   "id": "c6caeee4",
   "metadata": {},
   "outputs": [
    {
     "data": {
      "image/png": "[encoded data removed]",
      "text/plain": [
       "<Figure size 800x500 with 1 Axes>"
      ]
     },
     "metadata": {},
     "output_type": "display_data"
    }
   ],
   "source": [
    "siniestros_por_producto = df.groupby('Producto').agg({\n",
    "    'Monto_Siniestro': 'sum',\n",
    "    'Prima_Anual': 'sum'\n",
    "})\n",
    "\n",
    "siniestros_por_producto['Tasa_Siniestralidad'] = siniestros_por_producto['Monto_Siniestro'] / siniestros_por_producto['Prima_Anual']\n",
    "\n",
    "siniestros_por_producto['Tasa_Siniestralidad'].plot(kind='bar', title='Tasa de siniestralidad por producto', figsize=(8,5))\n",
    "plt.ylabel('Tasa')\n",
    "plt.show()"
   ]
  },
  {
   "cell_type": "markdown",
   "id": "0fde5db6",
   "metadata": {},
   "source": [
    "KPIs globales iniciales"
   ]
  },
  {
   "cell_type": "code",
   "execution_count": 48,
   "id": "ece37f77",
   "metadata": {},
   "outputs": [
    {
     "name": "stdout",
     "output_type": "stream",
     "text": [
      "Total de pólizas: 4,908\n",
      "Total primas recaudadas: $4,433,355.59\n",
      "Total monto siniestros: $4,453,675.34\n",
      "Tasa de siniestralidad global: 100.46%\n"
     ]
    }
   ],
   "source": [
    "total_polizas = df.shape[0]\n",
    "total_primas = df['Prima_Anual'].sum()\n",
    "total_siniestros = df['Monto_Siniestro'].sum()\n",
    "tasa_siniestralidad = total_siniestros / total_primas\n",
    "\n",
    "print(f\"Total de pólizas: {total_polizas:,}\")\n",
    "print(f\"Total primas recaudadas: ${total_primas:,.2f}\")\n",
    "print(f\"Total monto siniestros: ${total_siniestros:,.2f}\")\n",
    "print(f\"Tasa de siniestralidad global: {tasa_siniestralidad:.2%}\")\n"
   ]
  },
  {
   "cell_type": "markdown",
   "id": "f8a025b4",
   "metadata": {},
   "source": [
    "Parte 2: KPIs e Insights – Rentabilidad de Seguros de Vida."
   ]
  },
  {
   "cell_type": "markdown",
   "id": "226a9c03",
   "metadata": {},
   "source": [
    " Ingreso promedio por producto"
   ]
  },
  {
   "cell_type": "code",
   "execution_count": 49,
   "id": "ccb9a127",
   "metadata": {},
   "outputs": [
    {
     "data": {
      "text/html": [
       "<div>\n",
       "<style scoped>\n",
       "    .dataframe tbody tr th:only-of-type {\n",
       "        vertical-align: middle;\n",
       "    }\n",
       "\n",
       "    .dataframe tbody tr th {\n",
       "        vertical-align: top;\n",
       "    }\n",
       "\n",
       "    .dataframe thead th {\n",
       "        text-align: right;\n",
       "    }\n",
       "</style>\n",
       "<table border=\"1\" class=\"dataframe\">\n",
       "  <thead>\n",
       "    <tr style=\"text-align: right;\">\n",
       "      <th></th>\n",
       "      <th>Producto</th>\n",
       "      <th>Ingreso_Promedio</th>\n",
       "    </tr>\n",
       "  </thead>\n",
       "  <tbody>\n",
       "    <tr>\n",
       "      <th>0</th>\n",
       "      <td>Protección Familiar</td>\n",
       "      <td>911.934131</td>\n",
       "    </tr>\n",
       "    <tr>\n",
       "      <th>1</th>\n",
       "      <td>Vida Básico</td>\n",
       "      <td>896.412332</td>\n",
       "    </tr>\n",
       "    <tr>\n",
       "      <th>2</th>\n",
       "      <td>Vida Plus</td>\n",
       "      <td>901.084856</td>\n",
       "    </tr>\n",
       "    <tr>\n",
       "      <th>3</th>\n",
       "      <td>Vida Premium</td>\n",
       "      <td>903.658880</td>\n",
       "    </tr>\n",
       "  </tbody>\n",
       "</table>\n",
       "</div>"
      ],
      "text/plain": [
       "              Producto  Ingreso_Promedio\n",
       "0  Protección Familiar        911.934131\n",
       "1          Vida Básico        896.412332\n",
       "2            Vida Plus        901.084856\n",
       "3         Vida Premium        903.658880"
      ]
     },
     "execution_count": 49,
     "metadata": {},
     "output_type": "execute_result"
    }
   ],
   "source": [
    "kpi_ingreso_producto = df.groupby('Producto')['Prima_Anual'].mean().reset_index()\n",
    "kpi_ingreso_producto.rename(columns={'Prima_Anual': 'Ingreso_Promedio'}, inplace=True)\n",
    "kpi_ingreso_producto\n"
   ]
  },
  {
   "cell_type": "markdown",
   "id": "22ab6771",
   "metadata": {},
   "source": [
    "Tasa de siniestralidad por producto"
   ]
  },
  {
   "cell_type": "code",
   "execution_count": 50,
   "id": "bcdabe23",
   "metadata": {},
   "outputs": [
    {
     "data": {
      "text/html": [
       "<div>\n",
       "<style scoped>\n",
       "    .dataframe tbody tr th:only-of-type {\n",
       "        vertical-align: middle;\n",
       "    }\n",
       "\n",
       "    .dataframe tbody tr th {\n",
       "        vertical-align: top;\n",
       "    }\n",
       "\n",
       "    .dataframe thead th {\n",
       "        text-align: right;\n",
       "    }\n",
       "</style>\n",
       "<table border=\"1\" class=\"dataframe\">\n",
       "  <thead>\n",
       "    <tr style=\"text-align: right;\">\n",
       "      <th></th>\n",
       "      <th>Producto</th>\n",
       "      <th>Monto_Siniestro</th>\n",
       "      <th>Prima_Anual</th>\n",
       "      <th>Tasa_Siniestralidad</th>\n",
       "    </tr>\n",
       "  </thead>\n",
       "  <tbody>\n",
       "    <tr>\n",
       "      <th>0</th>\n",
       "      <td>Protección Familiar</td>\n",
       "      <td>1.259530e+06</td>\n",
       "      <td>1128062.52</td>\n",
       "      <td>1.116543</td>\n",
       "    </tr>\n",
       "    <tr>\n",
       "      <th>1</th>\n",
       "      <td>Vida Básico</td>\n",
       "      <td>1.002632e+06</td>\n",
       "      <td>1091830.22</td>\n",
       "      <td>0.918304</td>\n",
       "    </tr>\n",
       "    <tr>\n",
       "      <th>2</th>\n",
       "      <td>Vida Plus</td>\n",
       "      <td>1.153448e+06</td>\n",
       "      <td>1124553.90</td>\n",
       "      <td>1.025694</td>\n",
       "    </tr>\n",
       "    <tr>\n",
       "      <th>3</th>\n",
       "      <td>Vida Premium</td>\n",
       "      <td>1.038065e+06</td>\n",
       "      <td>1088908.95</td>\n",
       "      <td>0.953307</td>\n",
       "    </tr>\n",
       "  </tbody>\n",
       "</table>\n",
       "</div>"
      ],
      "text/plain": [
       "              Producto  Monto_Siniestro  Prima_Anual  Tasa_Siniestralidad\n",
       "0  Protección Familiar     1.259530e+06   1128062.52             1.116543\n",
       "1          Vida Básico     1.002632e+06   1091830.22             0.918304\n",
       "2            Vida Plus     1.153448e+06   1124553.90             1.025694\n",
       "3         Vida Premium     1.038065e+06   1088908.95             0.953307"
      ]
     },
     "execution_count": 50,
     "metadata": {},
     "output_type": "execute_result"
    }
   ],
   "source": [
    "kpi_siniestralidad_producto = df.groupby('Producto').agg({\n",
    "    'Monto_Siniestro': 'sum',\n",
    "    'Prima_Anual': 'sum'\n",
    "}).reset_index()\n",
    "\n",
    "kpi_siniestralidad_producto['Tasa_Siniestralidad'] = (\n",
    "    kpi_siniestralidad_producto['Monto_Siniestro'] / kpi_siniestralidad_producto['Prima_Anual']\n",
    ")\n",
    "kpi_siniestralidad_producto\n"
   ]
  },
  {
   "cell_type": "markdown",
   "id": "953c0505",
   "metadata": {},
   "source": [
    "Valor promedio del siniestro por región"
   ]
  },
  {
   "cell_type": "markdown",
   "id": "f7c5f04b",
   "metadata": {},
   "source": [
    "KPIs generales (para tarjetas)"
   ]
  },
  {
   "cell_type": "code",
   "execution_count": 59,
   "id": "c289b302",
   "metadata": {},
   "outputs": [
    {
     "name": "stdout",
     "output_type": "stream",
     "text": [
      "✅ Total pólizas vendidas: 4,908\n",
      "💰 Total primas recaudadas: $4,433,355.59\n",
      "💸 Total siniestros pagados: $4,453,675.34\n",
      "📉 Tasa de siniestralidad global: 100.46%\n"
     ]
    }
   ],
   "source": [
    "total_polizas = df.shape[0]\n",
    "total_primas = df['Prima_Anual'].sum()\n",
    "total_siniestros = df['Monto_Siniestro'].sum()\n",
    "tasa_siniestralidad = total_siniestros / total_primas\n",
    "\n",
    "print(f\"✅ Total pólizas vendidas: {total_polizas:,}\")\n",
    "print(f\"💰 Total primas recaudadas: ${total_primas:,.2f}\")\n",
    "print(f\"💸 Total siniestros pagados: ${total_siniestros:,.2f}\")\n",
    "print(f\"📉 Tasa de siniestralidad global: {tasa_siniestralidad:.2%}\")"
   ]
  }
 ],
 "metadata": {
  "kernelspec": {
   "display_name": "Python 3",
   "language": "python",
   "name": "python3"
  },
  "language_info": {
   "codemirror_mode": {
    "name": "ipython",
    "version": 3
   },
   "file_extension": ".py",
   "mimetype": "text/x-python",
   "name": "python",
   "nbconvert_exporter": "python",
   "pygments_lexer": "ipython3",
   "version": "3.13.2"
  }
 },
 "nbformat": 4,
 "nbformat_minor": 5
}
